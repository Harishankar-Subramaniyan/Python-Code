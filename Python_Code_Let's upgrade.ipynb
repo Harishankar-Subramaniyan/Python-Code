{
 "cells": [
  {
   "cell_type": "code",
   "execution_count": null,
   "id": "fafef9c0",
   "metadata": {},
   "outputs": [],
   "source": [
    "Age = int(input(\"Enter your Age :\"))\n",
    "if Age < 18:\n",
    "    print(\"You are a minor\")\n",
    "elif Age >= 18 and Age <= 65:\n",
    "        print(\"You are an adult\")\n",
    "else:\n",
    "    print(\"You are a senior\")"
   ]
  },
  {
   "cell_type": "code",
   "execution_count": null,
   "id": "6ae3a507",
   "metadata": {},
   "outputs": [],
   "source": []
  }
 ],
 "metadata": {
  "kernelspec": {
   "display_name": "Python 3 (ipykernel)",
   "language": "python",
   "name": "python3"
  }
 },
 "nbformat": 4,
 "nbformat_minor": 5
}
